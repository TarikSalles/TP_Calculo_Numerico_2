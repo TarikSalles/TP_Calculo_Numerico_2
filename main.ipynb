{
 "cells": [
  {
   "cell_type": "markdown",
   "metadata": {},
   "source": [
    "# TP-2_Cálculo-Númerico"
   ]
  },
  {
   "cell_type": "markdown",
   "metadata": {},
   "source": [
    "### Implementação da função 7, Sistemas Lineares: Gauss-Siedel"
   ]
  },
  {
   "cell_type": "code",
   "execution_count": 1,
   "metadata": {},
   "outputs": [],
   "source": [
    "import numpy as np\n",
    "import matplotlib.pyplot as plt\n",
    "import sympy as sym\n",
    "import math\n",
    "import seaborn as sns\n",
    "import sys\n",
    "from copy import copy"
   ]
  },
  {
   "cell_type": "code",
   "execution_count": 6,
   "metadata": {},
   "outputs": [
    {
     "name": "stdout",
     "output_type": "stream",
     "text": [
      "A solução aproximada é: x = [0.50000005 0.99999998 0.49999999]\n"
     ]
    }
   ],
   "source": [
    "def gauss_seidel(A, b, x0, tol=1e-6, max_iter=1000):\n",
    "    n = len(b)\n",
    "    x = np.copy(x0)\n",
    "    \n",
    "    for _ in range(max_iter):\n",
    "        x_old = np.copy(x)\n",
    "        for i in range(n):\n",
    "            sum1 = sum(A[i, j] * x[j] for j in range(n) if j != i)\n",
    "            x[i] = (b[i] - sum1) / A[i, i]\n",
    "        \n",
    "        error = np.linalg.norm(x - x_old, ord=np.inf)\n",
    "        \n",
    "        if error < tol:\n",
    "            return x\n",
    "        \n",
    "    raise ValueError(\"A solução não converge dentro do número máximo de iterações.\")\n",
    "\n",
    "A = np.array([[4, 1, 2], [3, 5, 1], [1, 1, 3]], dtype=float)\n",
    "b = np.array([4, 7, 3], dtype=float)\n",
    "x0 = np.zeros_like(b)\n",
    "\n",
    "solucao = gauss_seidel(A, b, x0)\n",
    "print(f\"A solução aproximada é: x = {solucao}\")"
   ]
  },
  {
   "cell_type": "markdown",
   "metadata": {},
   "source": [
    "### Implementação da função 6, Sistemas Lineares: Gauss-Jacobi\n"
   ]
  },
  {
   "cell_type": "code",
   "execution_count": 7,
   "metadata": {},
   "outputs": [
    {
     "name": "stdout",
     "output_type": "stream",
     "text": [
      "A solução aproximada é: x = [0.50000036 1.00000038 0.50000034]\n"
     ]
    }
   ],
   "source": [
    "def gauss_jacobi(A, b, x0, tol=1e-6, max_iter=1000):\n",
    "    n = len(b)\n",
    "    x = np.copy(x0)\n",
    "    \n",
    "    for iter_count in range(max_iter):\n",
    "        x_new = np.copy(x)\n",
    "        \n",
    "        for i in range(n):\n",
    "            sum1 = sum(A[i, j] * x[j] for j in range(n) if j != i)\n",
    "            x_new[i] = (b[i] - sum1) / A[i, i]\n",
    "        \n",
    "        error = np.linalg.norm(x_new - x, ord=np.inf)\n",
    "\n",
    "        if error < tol:\n",
    "            return x_new\n",
    "        \n",
    "        x = x_new\n",
    "    \n",
    "    raise ValueError(\"A solução não converge dentro do número máximo de iterações.\")\n",
    "\n",
    "A = np.array([[4, 1, 2], [3, 5, 1], [1, 1, 3]], dtype=float)\n",
    "b = np.array([4, 7, 3], dtype=float)\n",
    "x0 = np.zeros_like(b)\n",
    "\n",
    "solucao = gauss_jacobi(A, b, x0)\n",
    "print(f\"A solução aproximada é: x = {solucao}\")"
   ]
  },
  {
   "cell_type": "markdown",
   "metadata": {},
   "source": [
    "### Implementação da função 3, diferenças divididas:"
   ]
  },
  {
   "cell_type": "code",
   "execution_count": 3,
   "metadata": {},
   "outputs": [
    {
     "name": "stdout",
     "output_type": "stream",
     "text": [
      "1400 \t 1100.0 \t -175.0 \t \n",
      "2500 \t 750.0 \t \n",
      "3250 \t \n",
      "\n",
      "O valor em 10 é -50.0\n",
      "O valor interpolado em 10 é: -50.0\n"
     ]
    }
   ],
   "source": [
    "def proterm(i, value, x): \n",
    "    pro = 1\n",
    "    for j in range(i): \n",
    "        pro = pro * (value - x[j])\n",
    "    return pro\n",
    "\n",
    "def dividedDiffTable(x, y, n):\n",
    "    for i in range(1, n): \n",
    "        for j in range(n - i): \n",
    "            y[j][i] = (y[j][i - 1] - y[j + 1][i - 1]) / (x[j] - x[i + j])\n",
    "    return y\n",
    "  \n",
    "def applyFormula(value, x, y, n): \n",
    "    sum = y[0][0]\n",
    "    for i in range(1, n):\n",
    "        sum = sum + (proterm(i, value, x) * y[0][i])\n",
    "    return sum\n",
    "  \n",
    "def printDiffTable(y, n): \n",
    "    for i in range(n): \n",
    "        for j in range(n - i): \n",
    "            print(round(y[i][j], 4), \"\\t\", end=\" \")\n",
    "        print(\"\")\n",
    "\n",
    "def divided_difference(n, x_list, y_list, value):\n",
    "    y = [[0 for i in range(n)] for j in range(n)]\n",
    "    for i in range(n):\n",
    "        y[i][0] = y_list[i]\n",
    "\n",
    "    y = dividedDiffTable(x_list, y, n)\n",
    "    printDiffTable(y, n)\n",
    "    \n",
    "    result = round(applyFormula(value, x_list, y, n), 2)\n",
    "    print(\"\\nO valor em\", value, \"é\", result)\n",
    "    return result\n",
    "\n",
    "# Example usage for Newton Divided Differences\n",
    "n = 3\n",
    "x_list = [11, 12, 13] \n",
    "y_list = [1400, 2500, 3250]\n",
    "value = 10\n",
    "\n",
    "resultado_dividido = divided_difference(n, x_list, y_list, value)\n",
    "print(f\"O valor interpolado em {value} é: {resultado_dividido}\")"
   ]
  }
 ],
 "metadata": {
  "kernelspec": {
   "display_name": "Python 3",
   "language": "python",
   "name": "python3"
  },
  "language_info": {
   "codemirror_mode": {
    "name": "ipython",
    "version": 3
   },
   "file_extension": ".py",
   "mimetype": "text/x-python",
   "name": "python",
   "nbconvert_exporter": "python",
   "pygments_lexer": "ipython3",
   "version": "3.12.1"
  }
 },
 "nbformat": 4,
 "nbformat_minor": 2
}
