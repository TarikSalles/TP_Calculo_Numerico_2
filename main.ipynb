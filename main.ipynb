{
  "cells": [
    {
      "cell_type": "markdown",
      "metadata": {
        "id": "YXyb5fNN9KOK"
      },
      "source": [
        "# TP-2_Cálculo-Númerico\n",
        "\n",
        "##Alunos:\n",
        "\n",
        "###*   Tarik Salles Paiva - 5059\n",
        "\n",
        "###*   Item da lista\n",
        "###*   Item da lista\n",
        "###*   Item da lista\n",
        "\n",
        "\n"
      ]
    },
    {
      "cell_type": "code",
      "execution_count": 1,
      "metadata": {
        "id": "UYLafTTX9KOQ"
      },
      "outputs": [],
      "source": [
        "import numpy as np\n",
        "import matplotlib.pyplot as plt\n",
        "import sympy as sym\n",
        "import math\n",
        "import seaborn as sns\n",
        "import sys\n",
        "from copy import copy"
      ]
    },
    {
      "cell_type": "markdown",
      "source": [
        "### Implementação da função 1, Interpolação por Lagrange:"
      ],
      "metadata": {
        "id": "1v2RnMx29jYk"
      }
    },
    {
      "cell_type": "code",
      "source": [
        "def interpolacao_lagrange(X, Y, x):\n",
        "\n",
        "    valor_interpolado = 0.0\n",
        "\n",
        "    for i in range(len(X)):\n",
        "        L_i = 1.0\n",
        "        for j in range(len(X)):\n",
        "            if i != j:  #Não é possível i = j, pois resulta em divisão zero em (X[i] - X[j])\n",
        "\n",
        "              # Calcula a parte do polinômio de Lagrange para o ponto i\n",
        "                L_i *= (x - X[j]) / (X[i] - X[j])\n",
        "\n",
        "        valor_interpolado += L_i * Y[i]  #+= L(i) * f(i)\n",
        "\n",
        "    return valor_interpolado\n",
        "\n",
        "X = np.array([0, 1, 2,4], dtype=float)\n",
        "Y = np.array([1, 3,5,7], dtype=float)\n",
        "x = 2.3\n",
        "\n",
        "valor_interpolado = interpolacao_lagrange(X, Y, x)\n",
        "print(f\"O valor interpolado em x = {x} é: {valor_interpolado}\")\n"
      ],
      "metadata": {
        "colab": {
          "base_uri": "https://localhost:8080/"
        },
        "id": "iOJOS9KK9g6M",
        "outputId": "128f53d7-eda2-4545-99f7-281f05c0d7a4"
      },
      "execution_count": 2,
      "outputs": [
        {
          "output_type": "stream",
          "name": "stdout",
          "text": [
            "O valor interpolado em x = 2.3 é: 5.525249999999999\n"
          ]
        }
      ]
    },
    {
      "cell_type": "markdown",
      "metadata": {
        "id": "yghUAn8c9OHC"
      },
      "source": [
        "### Implementação da função 2, Interpolação por Diferenças Finitas:"
      ]
    },
    {
      "cell_type": "code",
      "source": [
        "def interpolacao_diferencas_finitas(X, Y, x):\n",
        "    tabela_diferencas_finitas = np.zeros((len(X), len(X)))\n",
        "    tabela_diferencas_finitas[:, 0] = Y\n",
        "\n",
        "\n",
        "    for j in range(1, len(X)):\n",
        "        for i in range(len(X) - j):\n",
        "            tabela_diferencas_finitas[i, j] = tabela_diferencas_finitas[i + 1, j - 1] - tabela_diferencas_finitas[i, j - 1] #diferença finita de ordem j no índice i = (diferença finita de ordem j-1 no índice i+ 1) + (diferença finita de ordem j-1 no índice i)\n",
        "\n",
        "        print(f\"Tabela de Diferenças Finitas após preencher a coluna {j}:\")\n",
        "\n",
        "        # Impressão da tabela de diferenças finitas com alguns espaços para melhorar a visualização, não envolvendo nenhum cálculo\n",
        "        #-----------------------------------------------------------------------------------------------------------------------------\n",
        "\n",
        "        nome_colunas = ['x', 'y'] + [f'Δ^{i}y' for i in range(1, j + 1)]\n",
        "        comp_coluna = max(len(name) for name in nome_colunas) + 5\n",
        "\n",
        "        header = ''.join(f\"{name:>{comp_coluna}}\" for name in nome_colunas)\n",
        "        print(header)\n",
        "        print('-' * len(header))\n",
        "\n",
        "        for i in range(len(X)):\n",
        "            linha = f\"{X[i]:>{comp_coluna}.2f} {tabela_diferencas_finitas[i, 0]:>{comp_coluna}.4f}\"\n",
        "            for k in range(1, j + 1):\n",
        "                if i + k < len(X):\n",
        "                    linha += f\"{tabela_diferencas_finitas[i, k]:>{comp_coluna}.4f}\"\n",
        "                else:\n",
        "                    linha += ' ' * comp_coluna\n",
        "            print(linha)\n",
        "        print()\n",
        "\n",
        "        #-----------------------------------------------------------------------------------------------------------------------------\n",
        "\n",
        "\n",
        "\n",
        "\n",
        "    # Nesse caso o valor interpolado é calculado usando o polinômio de Newton\n",
        "    valor_interpolado = tabela_diferencas_finitas[0, 0]\n",
        "    polinomio = 1.0\n",
        "    delta_x = X[1] - X[0]  # Diferença inicial (x1 - x0)\n",
        "    x_diferenca_x0 = (x - X[0])  # Diferença (x - x0)\n",
        "    diferenca_normalizada = x_diferenca_x0 / delta_x  # (x - x0) / (x1 - x0)\n",
        "\n",
        "    for k in range(1, len(X)):\n",
        "        polinomio *= (diferenca_normalizada - (k - 1)) / k  # Atualiza o termo do polinômio\n",
        "        valor_interpolado += polinomio * tabela_diferencas_finitas[0, k]  # Adiciona o termo ao valor interpolado\n",
        "\n",
        "    return valor_interpolado\n",
        "\n",
        "X = np.array([0, 1, 2,4], dtype=float)\n",
        "Y = np.array([1, 3,5,7], dtype=float)\n",
        "x = 2.3\n",
        "\n",
        "valor_interpolado = interpolacao_diferencas_finitas(X, Y, x)\n",
        "print(f\"O valor interpolado em x = {x} é: {valor_interpolado}\")\n"
      ],
      "metadata": {
        "colab": {
          "base_uri": "https://localhost:8080/"
        },
        "id": "_IJs6xkdy3Cl",
        "outputId": "79d5a931-9edd-43c9-bc5b-9fb398951c55"
      },
      "execution_count": 3,
      "outputs": [
        {
          "output_type": "stream",
          "name": "stdout",
          "text": [
            "Tabela de Diferenças Finitas após preencher a coluna 1:\n",
            "        x        y     Δ^1y\n",
            "---------------------------\n",
            "     0.00    1.0000   2.0000\n",
            "     1.00    3.0000   2.0000\n",
            "     2.00    5.0000   2.0000\n",
            "     4.00    7.0000         \n",
            "\n",
            "Tabela de Diferenças Finitas após preencher a coluna 2:\n",
            "        x        y     Δ^1y     Δ^2y\n",
            "------------------------------------\n",
            "     0.00    1.0000   2.0000   0.0000\n",
            "     1.00    3.0000   2.0000   0.0000\n",
            "     2.00    5.0000   2.0000         \n",
            "     4.00    7.0000                  \n",
            "\n",
            "Tabela de Diferenças Finitas após preencher a coluna 3:\n",
            "        x        y     Δ^1y     Δ^2y     Δ^3y\n",
            "---------------------------------------------\n",
            "     0.00    1.0000   2.0000   0.0000   0.0000\n",
            "     1.00    3.0000   2.0000   0.0000         \n",
            "     2.00    5.0000   2.0000                  \n",
            "     4.00    7.0000                           \n",
            "\n",
            "O valor interpolado em x = 2.3 é: 5.6\n"
          ]
        }
      ]
    },
    {
      "cell_type": "markdown",
      "metadata": {
        "id": "cXnTBI8X9KOX"
      },
      "source": [
        "### Implementação da função 3, Interpolação por Diferenças Divididas:"
      ]
    },
    {
      "cell_type": "code",
      "execution_count": 4,
      "metadata": {
        "colab": {
          "base_uri": "https://localhost:8080/"
        },
        "id": "rLwkgiks9KOY",
        "outputId": "50e936b2-2053-4dab-80dd-ccd66a336583"
      },
      "outputs": [
        {
          "output_type": "stream",
          "name": "stdout",
          "text": [
            "1400 \t 1100.0 \t -175.0 \t \n",
            "2500 \t 750.0 \t \n",
            "3250 \t \n",
            "O valor interpolado em 10 é: -50.0\n"
          ]
        }
      ],
      "source": [
        "def proterm(i, value, x):\n",
        "    pro = 1\n",
        "    for j in range(i):\n",
        "        pro = pro * (value - x[j])\n",
        "    return pro\n",
        "\n",
        "def dividedDiffTable(x, y, n):\n",
        "    for i in range(1, n):\n",
        "        for j in range(n - i):\n",
        "            y[j][i] = (y[j][i - 1] - y[j + 1][i - 1]) / (x[j] - x[i + j])\n",
        "    return y\n",
        "\n",
        "def applyFormula(value, x, y, n):\n",
        "    sum = y[0][0]\n",
        "    for i in range(1, n):\n",
        "        sum = sum + (proterm(i, value, x) * y[0][i])\n",
        "    return sum\n",
        "\n",
        "def printDiffTable(y, n):\n",
        "    for i in range(n):\n",
        "        for j in range(n - i):\n",
        "            print(round(y[i][j], 4), \"\\t\", end=\" \")\n",
        "        print(\"\")\n",
        "\n",
        "def divided_difference(n, x_list, y_list, value):\n",
        "    y = [[0 for i in range(n)] for j in range(n)]\n",
        "    for i in range(n):\n",
        "        y[i][0] = y_list[i]\n",
        "\n",
        "    y = dividedDiffTable(x_list, y, n)\n",
        "    printDiffTable(y, n)\n",
        "\n",
        "    result = round(applyFormula(value, x_list, y, n), 2)\n",
        "    return result\n",
        "\n",
        "# Example usage for Newton Divided Differences\n",
        "\n",
        "n = 3\n",
        "x_list = [11, 12, 13]\n",
        "y_list = [1400, 2500, 3250]\n",
        "value = 10\n",
        "\n",
        "resultado_dividido = divided_difference(n, x_list, y_list, value)\n",
        "print(f\"O valor interpolado em {value} é: {resultado_dividido}\")\n"
      ]
    },
    {
      "cell_type": "markdown",
      "metadata": {
        "id": "qjJ78wJO9KOZ"
      },
      "source": [
        "### Implementação da função 4, Sistemas Lineares: Gauss"
      ]
    },
    {
      "cell_type": "code",
      "execution_count": 5,
      "metadata": {
        "colab": {
          "base_uri": "https://localhost:8080/"
        },
        "id": "jJ-LofTo9KOa",
        "outputId": "3bcf64ff-c999-454e-e9eb-54781b764d57"
      },
      "outputs": [
        {
          "output_type": "stream",
          "name": "stdout",
          "text": [
            "Matriz A:\n",
            " [[ 0.  1. -2.]\n",
            " [ 2. -2.  3.]\n",
            " [ 1.  3.  1.]]\n",
            "Matriz B:\n",
            " [  7. -10.   8.]\n",
            "\n",
            "Matriz aumentada [A|B] após eliminação gaussiana:\n",
            "[[  2.     -2.      3.    -10.   ]\n",
            " [  0.      4.     -0.5    13.   ]\n",
            " [  0.      0.     -1.875   3.75 ]]\n",
            "\n",
            "Solução do sistema, vetor x:\n",
            "[ 1.  3. -2.]\n"
          ]
        }
      ],
      "source": [
        "def metodo_gauss(A, B):\n",
        "    # Combina a matriz A e o vetor B em uma única matriz aumentada [A|B]\n",
        "    AB = np.hstack([A, B.reshape(-1, 1)])\n",
        "    n = len(B)\n",
        "\n",
        "    # Aplicando eliminação gaussiana\n",
        "    for i in range(n):\n",
        "        # Pivotamento parcial\n",
        "        max_row = np.argmax(np.abs(AB[i:, i])) + i\n",
        "        AB[[i, max_row]] = AB[[max_row, i]]\n",
        "\n",
        "        # Eliminação\n",
        "        for j in range(i + 1, n):\n",
        "            factor = AB[j, i] / AB[i, i]\n",
        "            AB[j, i:] -= factor * AB[i, i:]\n",
        "\n",
        "    # Substituição para encontrar as soluções\n",
        "    x = np.zeros(n)\n",
        "    for i in range(n - 1, -1, -1):\n",
        "        x[i] = (AB[i, -1] - np.dot(AB[i, i + 1:n], x[i + 1:])) / AB[i, i]\n",
        "\n",
        "    return AB, x\n",
        "\n",
        "# Exemplo de uso:\n",
        "# A = np.array([[1, -2, 1], [2, -3, 1], [1, 4, 2]], dtype=float)\n",
        "# B = np.array([-1, -3, 7], dtype=float)\n",
        "\n",
        "# A = np.array([[4, 1, 2], [3, 5, 1], [1, 1, 3]], dtype=float)\n",
        "# B = np.array([4, 7, 3], dtype=float)\n",
        "\n",
        "A = np.array([[0, 1, -2], [2, -2, 3], [1, 3, 1]], dtype=float)\n",
        "B = np.array([7, -10, 8], dtype=float)\n",
        "\n",
        "AB, x = metodo_gauss(A, B)\n",
        "print(\"Matriz A:\\n\", A)\n",
        "print(\"Matriz B:\\n\", B)\n",
        "print(\"\\nMatriz aumentada [A|B] após eliminação gaussiana:\")\n",
        "print(AB)\n",
        "print(\"\\nSolução do sistema, vetor x:\")\n",
        "print(x)\n"
      ]
    },
    {
      "cell_type": "markdown",
      "metadata": {
        "id": "eN6Nsnue9KOb"
      },
      "source": [
        "### Implementação da função 5, Sistemas Lineares: Decomposição LU"
      ]
    },
    {
      "cell_type": "code",
      "execution_count": 6,
      "metadata": {
        "colab": {
          "base_uri": "https://localhost:8080/"
        },
        "id": "_O2c_xLj9KOc",
        "outputId": "2611bee8-07d2-41d1-924c-acf1954be5d3"
      },
      "outputs": [
        {
          "output_type": "stream",
          "name": "stdout",
          "text": [
            "Matriz A:\n",
            "[[ 1. -2.  1.]\n",
            " [ 2. -3.  1.]\n",
            " [ 1.  4.  2.]]\n",
            "\n",
            "Matriz B:\n",
            "[-1. -3.  7.]\n",
            "\n",
            "Matriz L:\n",
            "[[1. 0. 0.]\n",
            " [2. 1. 0.]\n",
            " [1. 6. 1.]]\n",
            "\n",
            "Matriz U:\n",
            "[[ 1. -2.  1.]\n",
            " [ 0.  1. -1.]\n",
            " [ 0.  0.  7.]]\n",
            "\n",
            "Solução x:\n",
            "(array([[ 1., -2.,  1.],\n",
            "       [ 0.,  1., -1.],\n",
            "       [ 0.,  0.,  7.]]), array([-1., -1., 14.]))\n"
          ]
        }
      ],
      "source": [
        "import numpy as np\n",
        "\n",
        "def decomposicao_LU(A):\n",
        "    n = len(A)\n",
        "    L = np.zeros((n, n))\n",
        "    U = np.zeros((n, n))\n",
        "\n",
        "    for i in range(n):\n",
        "        L[i][i] = 1\n",
        "        for j in range(i, n):\n",
        "            U[i][j] = A[i][j] - sum(L[i][k] * U[k][j] for k in range(i))\n",
        "        for j in range(i+1, n):\n",
        "            L[j][i] = (A[j][i] - sum(L[j][k] * U[k][i] for k in range(i))) / U[i][i]\n",
        "\n",
        "    return L, U\n",
        "\n",
        "def forward_substitution(L, b): # resolvendo o sistema triangular inferior Ly = b\n",
        "    y = np.zeros_like(b)\n",
        "    for i in range(len(b)):\n",
        "        y[i] = b[i] - sum(L[i][j] * y[j] for j in range(i))\n",
        "    return y\n",
        "\n",
        "def backward_substitution(U, y): # resolvendo o sistema triangular superior Ux = y\n",
        "    x = np.zeros_like(y)\n",
        "    for i in range(len(y)-1, -1, -1):\n",
        "        x[i] = (y[i] - sum(U[i][j] * x[j] for j in range(i+1, len(y)))) / U[i][i]\n",
        "    return x\n",
        "\n",
        "def solve_lu(A, B):\n",
        "    L, U = decomposicao_LU(A)\n",
        "    y = forward_substitution(L, B)\n",
        "    x =     (U, y)\n",
        "    return L, U, x\n",
        "\n",
        "# Exemplo de uso\n",
        "A = np.array([[1, -2, 1], [2, -3, 1], [1, 4, 2]], dtype=float)\n",
        "B = np.array([-1, -3, 7], dtype=float)\n",
        "\n",
        "L, U, x = solve_lu(A, B)\n",
        "\n",
        "print(\"Matriz A:\")\n",
        "print(A)\n",
        "print(\"\\nMatriz B:\")\n",
        "print(B)\n",
        "print(\"\\nMatriz L:\")\n",
        "print(L)\n",
        "print(\"\\nMatriz U:\")\n",
        "print(U)\n",
        "print(\"\\nSolução x:\")\n",
        "print(x)"
      ]
    },
    {
      "cell_type": "markdown",
      "metadata": {
        "id": "KkQAUiS09KOT"
      },
      "source": [
        "### Implementação da função 6, Sistemas Lineares: Gauss-Jacobi\n"
      ]
    },
    {
      "cell_type": "code",
      "execution_count": 7,
      "metadata": {
        "colab": {
          "base_uri": "https://localhost:8080/"
        },
        "id": "rPo_rk3h9KOW",
        "outputId": "21259709-e0d7-4e72-a4fe-8dbfa79918e9"
      },
      "outputs": [
        {
          "output_type": "stream",
          "name": "stdout",
          "text": [
            "A solução aproximada é: x = [0.50000036 1.00000038 0.50000034]\n"
          ]
        }
      ],
      "source": [
        "def gauss_jacobi(A, b, x0, tol=1e-6, max_iter=1000):\n",
        "    n = len(b)\n",
        "    x = np.copy(x0)\n",
        "\n",
        "    for iter_count in range(max_iter):\n",
        "        x_new = np.copy(x)\n",
        "\n",
        "        for i in range(n):\n",
        "            sum1 = sum(A[i, j] * x[j] for j in range(n) if j != i)\n",
        "            x_new[i] = (b[i] - sum1) / A[i, i]\n",
        "\n",
        "        error = np.linalg.norm(x_new - x, ord=np.inf)\n",
        "\n",
        "        if error < tol:\n",
        "            return x_new\n",
        "\n",
        "        x = x_new\n",
        "\n",
        "    raise ValueError(\"A solução não converge dentro do número máximo de iterações.\")\n",
        "\n",
        "A = np.array([[4, 1, 2], [3, 5, 1], [1, 1, 3]], dtype=float)\n",
        "b = np.array([4, 7, 3], dtype=float)\n",
        "x0 = np.zeros_like(b)\n",
        "\n",
        "solucao = gauss_jacobi(A, b, x0)\n",
        "print(f\"A solução aproximada é: x = {solucao}\")"
      ]
    },
    {
      "cell_type": "markdown",
      "metadata": {
        "id": "cz9EHxGk9KOO"
      },
      "source": [
        "### Implementação da função 7, Sistemas Lineares: Gauss-Siedel"
      ]
    },
    {
      "cell_type": "code",
      "execution_count": 8,
      "metadata": {
        "colab": {
          "base_uri": "https://localhost:8080/"
        },
        "id": "4717qvmR9KOR",
        "outputId": "b8efb95f-ff8e-4c58-c2e9-c0c2dc3a0a39"
      },
      "outputs": [
        {
          "output_type": "stream",
          "name": "stdout",
          "text": [
            "A solução aproximada é: x = [0.50000005 0.99999998 0.49999999]\n"
          ]
        }
      ],
      "source": [
        "def gauss_seidel(A, b, x0, tol=1e-6, max_iter=1000):\n",
        "    n = len(b)\n",
        "    x = np.copy(x0)\n",
        "\n",
        "    for _ in range(max_iter):\n",
        "        x_old = np.copy(x)\n",
        "        for i in range(n):\n",
        "            sum1 = sum(A[i, j] * x[j] for j in range(n) if j != i)\n",
        "            x[i] = (b[i] - sum1) / A[i, i]\n",
        "\n",
        "        error = np.linalg.norm(x - x_old, ord=np.inf)\n",
        "\n",
        "        if error < tol:\n",
        "            return x\n",
        "\n",
        "    raise ValueError(\"A solução não converge dentro do número máximo de iterações.\")\n",
        "\n",
        "A = np.array([[4, 1, 2], [3, 5, 1], [1, 1, 3]], dtype=float)\n",
        "b = np.array([4, 7, 3], dtype=float)\n",
        "x0 = np.zeros_like(b)\n",
        "\n",
        "solucao = gauss_seidel(A, b, x0)\n",
        "print(f\"A solução aproximada é: x = {solucao}\")"
      ]
    }
  ],
  "metadata": {
    "kernelspec": {
      "display_name": "Python 3",
      "language": "python",
      "name": "python3"
    },
    "language_info": {
      "codemirror_mode": {
        "name": "ipython",
        "version": 3
      },
      "file_extension": ".py",
      "mimetype": "text/x-python",
      "name": "python",
      "nbconvert_exporter": "python",
      "pygments_lexer": "ipython3",
      "version": "3.10.12"
    },
    "colab": {
      "provenance": []
    }
  },
  "nbformat": 4,
  "nbformat_minor": 0
}