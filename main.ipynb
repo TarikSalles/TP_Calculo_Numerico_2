{
 "cells": [
  {
   "cell_type": "markdown",
   "metadata": {},
   "source": [
    "# TP-2_Cálculo-Númerico"
   ]
  },
  {
   "cell_type": "markdown",
   "metadata": {},
   "source": [
    "### Implementação da função 7, Sistemas Lineares: Gauss-Siedel"
   ]
  },
  {
   "cell_type": "code",
   "execution_count": 1,
   "metadata": {},
   "outputs": [],
   "source": [
    "import numpy as np"
   ]
  },
  {
   "cell_type": "code",
   "execution_count": 6,
   "metadata": {},
   "outputs": [
    {
     "name": "stdout",
     "output_type": "stream",
     "text": [
      "A solução aproximada é: x = [0.50000005 0.99999998 0.49999999]\n"
     ]
    }
   ],
   "source": [
    "def gauss_seidel(A, b, x0, tol=1e-6, max_iter=1000):\n",
    "    n = len(b)\n",
    "    x = np.copy(x0)\n",
    "    \n",
    "    for _ in range(max_iter):\n",
    "        x_old = np.copy(x)\n",
    "        for i in range(n):\n",
    "            sum1 = sum(A[i, j] * x[j] for j in range(n) if j != i)\n",
    "            x[i] = (b[i] - sum1) / A[i, i]\n",
    "        \n",
    "        error = np.linalg.norm(x - x_old, ord=np.inf)\n",
    "        \n",
    "        if error < tol:\n",
    "            return x\n",
    "        \n",
    "    raise ValueError(\"A solução não converge dentro do número máximo de iterações.\")\n",
    "\n",
    "A = np.array([[4, 1, 2], [3, 5, 1], [1, 1, 3]], dtype=float)\n",
    "b = np.array([4, 7, 3], dtype=float)\n",
    "x0 = np.zeros_like(b)\n",
    "\n",
    "solucao = gauss_seidel(A, b, x0)\n",
    "print(f\"A solução aproximada é: x = {solucao}\")"
   ]
  },
  {
   "cell_type": "markdown",
   "metadata": {},
   "source": [
    "### Implementação da função 6, Sistemas Lineares: Gauss-Jacobi\n"
   ]
  },
  {
   "cell_type": "code",
   "execution_count": 8,
   "metadata": {},
   "outputs": [
    {
     "name": "stdout",
     "output_type": "stream",
     "text": [
      "A solução aproximada é: x = [0.50000036 1.00000038 0.50000034]\n"
     ]
    }
   ],
   "source": [
    "def gauss_jacobi(A, b, x0, tol=1e-6, max_iter=1000):\n",
    "    n = len(b)\n",
    "    x = np.copy(x0)\n",
    "    \n",
    "    for iter_count in range(max_iter):\n",
    "        x_new = np.copy(x)\n",
    "        \n",
    "        for i in range(n):\n",
    "            sum1 = sum(A[i, j] * x[j] for j in range(n) if j != i)\n",
    "            x_new[i] = (b[i] - sum1) / A[i, i]\n",
    "        \n",
    "        error = np.linalg.norm(x_new - x, ord=np.inf)\n",
    "\n",
    "        if error < tol:\n",
    "            return x_new\n",
    "        \n",
    "        x = x_new\n",
    "    \n",
    "    raise ValueError(\"A solução não converge dentro do número máximo de iterações.\")\n",
    "\n",
    "A = np.array([[4, 1, 2], [3, 5, 1], [1, 1, 3]], dtype=float)\n",
    "b = np.array([4, 7, 3], dtype=float)\n",
    "x0 = np.zeros_like(b)\n",
    "\n",
    "solucao = gauss_jacobi(A, b, x0)\n",
    "print(f\"A solução aproximada é: x = {solucao}\")"
   ]
  }
 ],
 "metadata": {
  "kernelspec": {
   "display_name": "Python 3",
   "language": "python",
   "name": "python3"
  },
  "language_info": {
   "codemirror_mode": {
    "name": "ipython",
    "version": 3
   },
   "file_extension": ".py",
   "mimetype": "text/x-python",
   "name": "python",
   "nbconvert_exporter": "python",
   "pygments_lexer": "ipython3",
   "version": "3.10.12"
  }
 },
 "nbformat": 4,
 "nbformat_minor": 2
}
